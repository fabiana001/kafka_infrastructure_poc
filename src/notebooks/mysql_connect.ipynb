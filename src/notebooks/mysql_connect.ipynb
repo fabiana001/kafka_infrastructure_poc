{
 "cells": [
  {
   "cell_type": "code",
   "execution_count": 11,
   "metadata": {},
   "outputs": [],
   "source": [
    "import datetime\n",
    "from collections import Counter\n",
    "from urllib.parse import urlparse\n",
    "import re\n",
    "import sys\n",
    "\n",
    "import mysql.connector\n",
    "\n",
    "# Connect to server\n",
    "cnx = mysql.connector.connect(host='erm-dbreputation', port=3306,\n",
    "                              user='sosoft', password='sosoft')\n",
    "cursor = cnx.cursor()\n",
    "\n",
    "# query = ('SELECT url_src as \"URL sorgente\", LEFT(language, 2) as \"Lingua\", MIN(insertdate) as \"Inizio monitoraggio\", COUNT(*) as \"# articoli\" '\n",
    "#          'FROM reppy.PRO_clip_repository '\n",
    "#          'WHERE language IN (\"en\", \"en-ca\", \"en-gb\", \"en-US\") '\n",
    "#          'GROUP BY url_src, language '\n",
    "#          'ORDER BY idclip, COUNT(*);')\n",
    "\n",
    "query = \"SELECT * FROM reppy.PRO_clip_repository WHERE language IN ('IT', 'it-IT') and pubDate = '2019-01-15';\"\n",
    "#query = \"SHOW COLUMNS FROM reppy.PRO_clip_repository;\"\n",
    "cursor.execute(query)"
   ]
  },
  {
   "cell_type": "code",
   "execution_count": 12,
   "metadata": {},
   "outputs": [
    {
     "data": {
      "text/plain": [
       "[(201,)]"
      ]
     },
     "execution_count": 12,
     "metadata": {},
     "output_type": "execute_result"
    }
   ],
   "source": [
    "list(cursor)"
   ]
  },
  {
   "cell_type": "code",
   "execution_count": null,
   "metadata": {},
   "outputs": [],
   "source": [
    "$> mysqldump -umy_user_name -p database_name  --tables my_table1 --where=\"date_created > '2016-01-01' \" > mytable1_filtered_dump.sql\n"
   ]
  }
 ],
 "metadata": {
  "kernelspec": {
   "display_name": "Python 3",
   "language": "python",
   "name": "python3"
  },
  "language_info": {
   "codemirror_mode": {
    "name": "ipython",
    "version": 3
   },
   "file_extension": ".py",
   "mimetype": "text/x-python",
   "name": "python",
   "nbconvert_exporter": "python",
   "pygments_lexer": "ipython3",
   "version": "3.7.2"
  }
 },
 "nbformat": 4,
 "nbformat_minor": 2
}
